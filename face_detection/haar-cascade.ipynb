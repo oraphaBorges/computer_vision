{
 "cells": [
  {
   "cell_type": "markdown",
   "metadata": {},
   "source": [
    "# HAAR CASCADE\n",
    "\n",
    "Em 2001 Paulo Viola e Michael Jones proporam uma nova tecnica para detecção de objetos de forma extremamente rápida e com grandes taxas de detecção no artigo [Rapid Object Detection using a Boosted Cascade of Simple\n",
    "Features](https://www.cs.cmu.edu/~efros/courses/LBMV07/Papers/viola-cvpr-01.pdf)\n",
    "\n",
    "\n",
    "Inicialmente, o algoritmo precisa de muitas imagens:\n",
    "\n",
    "- Positivas: Imagens do objeto que se deseja detectar, contém diferentes representações do objeto que se deseja detectar sob diferentes perspectivas, condições de iluminação, tamanhos e etc.\n",
    "\n",
    "- Negativas: Imagens sem o objeto que se deseja detectar.Contém tudo o que não se deseja detectar com o modelo."
   ]
  },
  {
   "cell_type": "markdown",
   "metadata": {},
   "source": [
    "### Referências\n",
    "\n",
    "[ \\[1\\] - Pualo Viola e Michale Jones: Rapid Object Detection using a Boosted Cascade of Simple\n",
    "Features](https://www.cs.cmu.edu/~efros/courses/LBMV07/Papers/viola-cvpr-01.pdf)\n",
    "\n",
    "[\\[2\\] - OpenCV: Face Detection using Haar Cascades](https://docs.opencv.org/3.3.0/d7/d8b/tutorial_py_face_detection.html)"
   ]
  }
 ],
 "metadata": {
  "kernelspec": {
   "display_name": "Python 3",
   "language": "python",
   "name": "python3"
  },
  "language_info": {
   "codemirror_mode": {
    "name": "ipython",
    "version": 3
   },
   "file_extension": ".py",
   "mimetype": "text/x-python",
   "name": "python",
   "nbconvert_exporter": "python",
   "pygments_lexer": "ipython3",
   "version": "3.6.9"
  }
 },
 "nbformat": 4,
 "nbformat_minor": 2
}
